{
 "cells": [
  {
   "cell_type": "markdown",
   "metadata": {},
   "source": [
    "<center>\n",
    "    <img src=\"https://s3-api.us-geo.objectstorage.softlayer.net/cf-courses-data/CognitiveClass/Logos/organization_logo/organization_logo.png\" width=\"300\" alt=\"cognitiveclass.ai logo\"  />\n",
    "</center>\n"
   ]
  },
  {
   "cell_type": "markdown",
   "metadata": {},
   "source": [
    "#### Add your code below following the instructions given in the course\n"
   ]
  },
  {
   "cell_type": "markdown",
   "metadata": {},
   "source": [
    "<div align = center><h1>My Jupyter Notebook on IBM Watson Studio</h1></div>"
   ]
  },
  {
   "cell_type": "markdown",
   "metadata": {},
   "source": [
    "<strong>Daniel Phillips</strong>\n",
    "Current Occupation: Digital Marketing Agency Founder\n",
    "Desired Occupation: AI Machine Learning Specialist with a focus on Aerospace"
   ]
  },
  {
   "cell_type": "markdown",
   "metadata": {},
   "source": [
    "<em>I am interested in data science because I believe it to be the fundamental language of present and future technologies. Futhermore I believe that learning about AI and Machine Learning is a way to future proof your career when the robots eventually take over</em>"
   ]
  },
  {
   "cell_type": "markdown",
   "metadata": {},
   "source": [
    "<h3>This following code will execute a line of printing hello mike</h3>"
   ]
  },
  {
   "cell_type": "code",
   "execution_count": 4,
   "metadata": {},
   "outputs": [
    {
     "name": "stdout",
     "output_type": "stream",
     "text": [
      "Hello, Mike\n"
     ]
    }
   ],
   "source": [
    "print(\"Hello, Mike\")"
   ]
  },
  {
   "cell_type": "markdown",
   "metadata": {},
   "source": [
    "This block of markdown is the final block of markdown as per the instructions. The following are things that I like. Please see <a href=\"www.nfl.com\">this link to NFL.com</a> for my first example of functionality. \n",
    "\n",
    "Below this is a bulleted list of things I am personally interested in. \n",
    "\n",
    "<ol>\n",
    "  <li>Football</li>\n",
    "  <li>Digital Marketing</li>\n",
    "  <li>Artifical Intelligence</li>\n",
    "</ol>\n",
    "\n",
    "And here is an example of a third functionality in the visualization of table data. \n",
    "\n",
    "<table>\n",
    "  <tr>\n",
    "    <th>Band</th>\n",
    "    <th>Lead Singer</th>\n",
    "    <th>Album Sales</th>\n",
    "  </tr>\n",
    "  <tr>\n",
    "    <td>Led Zeppelin</td>\n",
    "    <td>The Doors</td>\n",
    "    <td>1.2 Million</td>\n",
    "  </tr>\n",
    "  <tr>\n",
    "    <td>Robert Plant</td>\n",
    "    <td>Jim Morrisson</td>\n",
    "    <td>3.4 Million</td>\n",
    "  </tr>\n",
    "</table>\n",
    "\n",
    "As a bonus, I am also including an image of a nice puppy to go above and beyond the requirement of three elements for this evaluation. \n",
    "\n",
    "Here is a puppy "
   ]
  },
  {
   "cell_type": "code",
   "execution_count": null,
   "metadata": {},
   "outputs": [],
   "source": []
  }
 ],
 "metadata": {
  "kernelspec": {
   "display_name": "Python",
   "language": "python",
   "name": "conda-env-python-py"
  },
  "language_info": {
   "codemirror_mode": {
    "name": "ipython",
    "version": 3
   },
   "file_extension": ".py",
   "mimetype": "text/x-python",
   "name": "python",
   "nbconvert_exporter": "python",
   "pygments_lexer": "ipython3",
   "version": "3.7.12"
  }
 },
 "nbformat": 4,
 "nbformat_minor": 4
}
